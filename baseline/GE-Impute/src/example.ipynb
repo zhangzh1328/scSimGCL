{
 "cells": [
  {
   "cell_type": "code",
   "execution_count": 1,
   "id": "32fad966",
   "metadata": {},
   "outputs": [],
   "source": [
    "#change directory to src\n",
    "\n",
    "from SCIMP import Impute\n",
    "\n",
    "import pandas as pd"
   ]
  },
  {
   "cell_type": "code",
   "execution_count": 2,
   "id": "4ff61b3e",
   "metadata": {},
   "outputs": [],
   "source": [
    "#Step1 load the raw count matrix of scRNA-seq data, where rows are genes and columns are cells.\n",
    "\n",
    "rawfile=pd.read_csv(\"/home/wuxiaobin/imputation/data/10x/raw/cellline/sc_CountMatrix.txt\",sep=\"\\t\",index_col=0)"
   ]
  },
  {
   "cell_type": "code",
   "execution_count": 3,
   "id": "a119b590",
   "metadata": {},
   "outputs": [],
   "source": [
    "#Step2 build adjacent matrix for scRNA-seq data.\n",
    "\n",
    "graph_adj=Impute.GraphBuild(input_file=rawfile,k=3)"
   ]
  },
  {
   "cell_type": "code",
   "execution_count": 4,
   "id": "f6362be6",
   "metadata": {},
   "outputs": [
    {
     "data": {
      "application/vnd.jupyter.widget-view+json": {
       "model_id": "3cbfd494ba294954a9346a92890181ef",
       "version_major": 2,
       "version_minor": 0
      },
      "text/plain": [
       "Computing transition probabilities:   0%|          | 0/3817 [00:00<?, ?it/s]"
      ]
     },
     "metadata": {},
     "output_type": "display_data"
    },
    {
     "name": "stderr",
     "output_type": "stream",
     "text": [
      "Generating walks (CPU: 1): 100%|██████████| 20/20 [00:02<00:00,  8.27it/s]\n"
     ]
    }
   ],
   "source": [
    "#Step3 learn cell embeddings.\n",
    "\n",
    "cell_emb=Impute.trainCellEmbeddings(graph_adj)"
   ]
  },
  {
   "cell_type": "code",
   "execution_count": 5,
   "id": "1b0e6cd1",
   "metadata": {},
   "outputs": [],
   "source": [
    "#Step4 scRNA-seq data imputation, the format of output file is genes x cells expression matrix.\n",
    "\n",
    "data_imp=Impute.imputation(scfile=rawfile,embeddingfile=cell_emb,AdjGraph=graph_adj)"
   ]
  }
 ],
 "metadata": {
  "kernelspec": {
   "display_name": "Python 3",
   "language": "python",
   "name": "python3"
  },
  "language_info": {
   "codemirror_mode": {
    "name": "ipython",
    "version": 3
   },
   "file_extension": ".py",
   "mimetype": "text/x-python",
   "name": "python",
   "nbconvert_exporter": "python",
   "pygments_lexer": "ipython3",
   "version": "3.8.8"
  }
 },
 "nbformat": 4,
 "nbformat_minor": 5
}
