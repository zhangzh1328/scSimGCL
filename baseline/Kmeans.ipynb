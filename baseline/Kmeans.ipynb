{
 "cells": [
  {
   "cell_type": "code",
   "execution_count": null,
   "id": "bdc52b0e-6311-404a-9e06-7f7e4475f840",
   "metadata": {},
   "outputs": [],
   "source": [
    "import warnings\n",
    "warnings.filterwarnings(\"ignore\")\n",
    "\n",
    "import torch\n",
    "import numpy as np\n",
    "import scanpy as sc\n",
    "from torch.utils.data import DataLoader\n",
    "from sklearn.model_selection import train_test_split"
   ]
  },
  {
   "cell_type": "code",
   "execution_count": null,
   "id": "cf844e24-dfa7-4463-b8b5-f825743f3798",
   "metadata": {},
   "outputs": [],
   "source": [
    "path='./Baron.h5'\n",
    "data = sc.read_h5ad(path)\n",
    "X_all = data.X\n",
    "y_all = data.obs.values[:,0]\n",
    "\n",
    "print(X_all.shape)\n",
    "print(y_all.shape)\n",
    "\n",
    "print(data.obs.values.shape)\n",
    "print(data.obs.values[0:5,:])\n",
    "\n",
    "X_train, X_test, y_train, y_test,data_train,data_test = train_test_split(X_all, y_all, data,test_size=0.2, random_state=1)\n",
    "data_train,data_test = train_test_split(data,test_size=0.2, random_state=1)\n",
    "\n",
    "print(X_train.shape)\n",
    "print(X_test.shape)\n",
    "print(y_train.shape)\n",
    "print(y_test.shape)\n",
    "\n",
    "class CellDataset(torch.utils.data.Dataset):\n",
    "    def __init__(self, X, y):\n",
    "        self.X = torch.tensor(X)\n",
    "        self.y = y\n",
    "\n",
    "    def __len__(self):\n",
    "        return len(self.y)\n",
    "\n",
    "    def __getitem__(self, index):\n",
    "        return self.X[index], self.y[index]\n",
    "\n",
    "train_set = CellDataset(X_train, y_train)\n",
    "test_set = CellDataset(X_test, y_test)\n",
    "\n",
    "train_loader = DataLoader(dataset=train_set, batch_size=128, shuffle=True,num_workers=0)\n",
    "test_loader = DataLoader(dataset=test_set, batch_size=128, shuffle=False, num_workers=0)\n",
    "\n",
    "import numpy as np\n",
    "n_clusters = len(np.unique(y_train))\n",
    "\n",
    "print(len(np.unique(y_train)))\n",
    "print(len(np.unique(y_test)))\n",
    "\n",
    "print(np.unique(y_train))\n",
    "print(np.unique(y_test))"
   ]
  },
  {
   "cell_type": "code",
   "execution_count": null,
   "id": "7ae64a88-9e87-4797-8f47-b568d7321564",
   "metadata": {},
   "outputs": [],
   "source": [
    "from sklearn.cluster import KMeans\n",
    "\n",
    "n_clusters= 14\n",
    "kmeans = KMeans(n_clusters=n_clusters, random_state=myseed, n_init=20).fit(X_all)\n",
    "y_kmeans_test = kmeans.labels_"
   ]
  }
 ],
 "metadata": {
  "kernelspec": {
   "display_name": "Python 3 (ipykernel)",
   "language": "python",
   "name": "python3"
  },
  "language_info": {
   "codemirror_mode": {
    "name": "ipython",
    "version": 3
   },
   "file_extension": ".py",
   "mimetype": "text/x-python",
   "name": "python",
   "nbconvert_exporter": "python",
   "pygments_lexer": "ipython3",
   "version": "3.8.10"
  }
 },
 "nbformat": 4,
 "nbformat_minor": 5
}
