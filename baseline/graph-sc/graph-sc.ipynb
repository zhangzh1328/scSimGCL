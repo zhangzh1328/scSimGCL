{
 "cells": [
  {
   "cell_type": "code",
   "execution_count": 1,
   "id": "5993748b",
   "metadata": {},
   "outputs": [
    {
     "name": "stderr",
     "output_type": "stream",
     "text": [
      "Using backend: pytorch\n"
     ]
    }
   ],
   "source": [
    "import sys\n",
    "sys.path.append(\"..\")\n",
    "import argparse\n",
    "import numpy as np\n",
    "import dgl\n",
    "from dgl import DGLGraph\n",
    "import torch\n",
    "import torch.nn.functional as F\n",
    "import time\n",
    "import matplotlib.pyplot as plt\n",
    "import pandas as pd\n",
    "from tqdm import tqdm\n",
    "from collections import Counter\n",
    "import pickle\n",
    "import h5py\n",
    "import random\n",
    "import glob2\n",
    "import seaborn as sns\n",
    "\n",
    "import train\n",
    "import models\n",
    "\n",
    "%load_ext autoreload\n",
    "%autoreload 2\n"
   ]
  },
  {
   "cell_type": "code",
   "execution_count": 2,
   "id": "ef329bb0",
   "metadata": {},
   "outputs": [
    {
     "name": "stdout",
     "output_type": "stream",
     "text": [
      "cuda:0\n"
     ]
    }
   ],
   "source": [
    "device = torch.device(\"cuda:0\" if torch.cuda.is_available() == True else 'cpu')\n",
    "print(device)"
   ]
  },
  {
   "cell_type": "code",
   "execution_count": 3,
   "id": "379a267c",
   "metadata": {},
   "outputs": [],
   "source": [
    "import warnings\n",
    "warnings.filterwarnings(\"ignore\")\n",
    "\n",
    "import torch\n",
    "import numpy as np\n",
    "import scanpy as sc\n",
    "from torch.utils.data import DataLoader\n",
    "from sklearn.model_selection import train_test_split"
   ]
  },
  {
   "cell_type": "code",
   "execution_count": 4,
   "id": "3d2a2276",
   "metadata": {},
   "outputs": [],
   "source": [
    "import math\n",
    "import torch\n",
    "import random\n",
    "import numpy as np\n",
    "import copy\n",
    "from typing import Optional\n",
    "from sklearn import metrics\n",
    "from torch import nn, Tensor\n",
    "from torch.nn import functional as F\n",
    "from torch.nn.modules import MultiheadAttention, Linear, Dropout, BatchNorm1d, TransformerEncoderLayer\n",
    "\n",
    "\n",
    "def setup_seed(seed):\n",
    "    torch.manual_seed(seed)\n",
    "    torch.cuda.manual_seed_all(seed)\n",
    "    np.random.seed(seed)\n",
    "    random.seed(seed)\n",
    "    torch.backends.cudnn.deterministic = True\n",
    "\n",
    "\n",
    "np.set_printoptions(precision=4)\n",
    "np.set_printoptions(suppress=True)    "
   ]
  },
  {
   "cell_type": "code",
   "execution_count": 5,
   "id": "f8e681a1",
   "metadata": {},
   "outputs": [],
   "source": [
    "epochs = 200\n",
    "run_times = 1\n",
    "\n",
    "batch_size = 128 \n",
    "pca_size = 100"
   ]
  },
  {
   "cell_type": "code",
   "execution_count": 6,
   "id": "d498a5e5",
   "metadata": {
    "scrolled": true
   },
   "outputs": [],
   "source": [
    "results = []\n",
    "model_name = \"GraphConv\"\n",
    "normalize_weights = \"none\"\n",
    "node_features = \"none\"\n",
    "same_edge_values = False\n",
    "edge_norm = True\n",
    "hidden_relu = False\n",
    "hidden_bn = False\n",
    "n_layers = 1\n",
    "hidden_dim = 200\n",
    "hidden = [300]\n",
    "nb_genes = 3000\n",
    "activation = F.relu\n",
    "\n",
    "path='./Baron.h5'\n",
    "data = sc.read_h5ad(path)\n",
    "\n",
    "X_all = data.X\n",
    "y_all = data.obs.values[:,0]\n",
    "\n",
    "\n",
    "Y = y_all\n",
    "X = X_all\n",
    "n_clusters = len(np.unique(Y))\n",
    "\n",
    "\n",
    "t0 = time.time()\n",
    "graph = train.make_graph(\n",
    "    X,\n",
    "    Y,\n",
    "    dense_dim=pca_size,\n",
    "    node_features=node_features,\n",
    "    normalize_weights=normalize_weights,\n",
    ")\n",
    "\n",
    "labels = graph.ndata[\"label\"]\n",
    "train_ids = np.where(labels != -1)[0]\n",
    "\n",
    "sampler = dgl.dataloading.MultiLayerFullNeighborSampler(n_layers)\n",
    "\n",
    "dataloader = dgl.dataloading.NodeDataLoader(\n",
    "    graph,\n",
    "    train_ids,\n",
    "    sampler,\n",
    "    batch_size=batch_size,\n",
    "    shuffle=True,\n",
    "    drop_last=False,\n",
    "    num_workers=1,\n",
    ")\n"
   ]
  },
  {
   "cell_type": "code",
   "execution_count": null,
   "id": "db9cc373",
   "metadata": {},
   "outputs": [],
   "source": [
    "t1 = time.time()\n",
    "\n",
    "for run in range(run_times):\n",
    "    setup_seed(run)\n",
    "    t_start = time.time()\n",
    "    torch.manual_seed(run)\n",
    "    torch.cuda.manual_seed_all(run)\n",
    "    np.random.seed(run)\n",
    "    random.seed(run)\n",
    "\n",
    "    model = models.GCNAE(\n",
    "        in_feats=pca_size,\n",
    "        n_hidden=hidden_dim,\n",
    "        n_layers=n_layers,\n",
    "        activation=activation,\n",
    "        dropout=0.1,\n",
    "        hidden=hidden,\n",
    "        hidden_relu=hidden_relu,\n",
    "        hidden_bn=hidden_bn,\n",
    "    ).to(device)\n",
    "    if run == 0:\n",
    "        print(f\">\", model)\n",
    "\n",
    "    optim = torch.optim.Adam(model.parameters(), lr=1e-5)\n",
    "\n",
    "    scores = train.train(model,\n",
    "                         optim,\n",
    "                         epochs,\n",
    "                         dataloader,\n",
    "                         n_clusters,\n",
    "                         plot=False,\n",
    "                         cluster=[\"KMeans\"])\n",
    "    results.append(scores)\n",
    "#         results.to_pickle(\n",
    "#             f\"../output/pickle_results/{category}/{category}_gae.pkl\")\n",
    "#         print(\"Done\")\n"
   ]
  }
 ],
 "metadata": {
  "kernelspec": {
   "display_name": "Python 3 (ipykernel)",
   "language": "python",
   "name": "python3"
  },
  "language_info": {
   "codemirror_mode": {
    "name": "ipython",
    "version": 3
   },
   "file_extension": ".py",
   "mimetype": "text/x-python",
   "name": "python",
   "nbconvert_exporter": "python",
   "pygments_lexer": "ipython3",
   "version": "3.8.17"
  }
 },
 "nbformat": 4,
 "nbformat_minor": 5
}
