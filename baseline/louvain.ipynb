{
 "cells": [
  {
   "cell_type": "code",
   "execution_count": null,
   "id": "5ba9f82c-20f8-408a-8475-1d758af12965",
   "metadata": {},
   "outputs": [],
   "source": [
    "import warnings\n",
    "warnings.filterwarnings(\"ignore\")\n",
    "\n",
    "import torch\n",
    "import numpy as np\n",
    "import scanpy as sc\n",
    "import pandas as pd"
   ]
  },
  {
   "cell_type": "code",
   "execution_count": null,
   "id": "df479a4e-e7c0-4bff-98e4-552430619517",
   "metadata": {},
   "outputs": [],
   "source": [
    "path='./Baron.h5'\n",
    "data = sc.read_h5ad(path)"
   ]
  },
  {
   "cell_type": "code",
   "execution_count": null,
   "id": "c86c0923-e278-4b7f-b8d5-93a19d1af121",
   "metadata": {},
   "outputs": [],
   "source": [
    "sc.pp.normalize_total(data, target_sum=1e4)\n",
    "sc.pp.log1p(data)\n",
    "sc.pp.scale(data, max_value=10)   \n",
    "sc.tl.pca(data)\n",
    "sc.pp.neighbors(data,n_neighbors=10,n_pcs=25)\n",
    "sc.tl.umap(data)\n",
    "sc.tl.louvain(data)"
   ]
  }
 ],
 "metadata": {
  "kernelspec": {
   "display_name": "Python 3 (ipykernel)",
   "language": "python",
   "name": "python3"
  },
  "language_info": {
   "codemirror_mode": {
    "name": "ipython",
    "version": 3
   },
   "file_extension": ".py",
   "mimetype": "text/x-python",
   "name": "python",
   "nbconvert_exporter": "python",
   "pygments_lexer": "ipython3",
   "version": "3.8.10"
  }
 },
 "nbformat": 4,
 "nbformat_minor": 5
}
