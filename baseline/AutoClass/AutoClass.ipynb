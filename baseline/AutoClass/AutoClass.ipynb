{
 "cells": [
  {
   "cell_type": "code",
   "execution_count": 1,
   "metadata": {},
   "outputs": [],
   "source": [
    "d_name = 'Baron'\n",
    "my_drop_rate = 0.1"
   ]
  },
  {
   "cell_type": "code",
   "execution_count": 2,
   "metadata": {},
   "outputs": [],
   "source": [
    "import os\n",
    "import random\n",
    "import numpy as np\n",
    "import tensorflow as tf"
   ]
  },
  {
   "cell_type": "code",
   "execution_count": 3,
   "metadata": {},
   "outputs": [],
   "source": [
    "import pandas as pd\n",
    "import numpy as np\n",
    "import matplotlib.pyplot as plt\n",
    "from sklearn.metrics import silhouette_score\n",
    "from AutoClass import AutoClassImpute,take_norm,find_hv_genes\n",
    "from sklearn.decomposition import PCA\n",
    "from sklearn.manifold import TSNE\n",
    "from sklearn.model_selection import train_test_split\n",
    "import scanpy as sc"
   ]
  },
  {
   "cell_type": "code",
   "execution_count": 4,
   "metadata": {},
   "outputs": [],
   "source": [
    "path='./'+d_name+'.h5'\n",
    "data = sc.read_h5ad(path)\n",
    "\n",
    "X_all = data.X\n",
    "y_all = data.obs.values[:,0]"
   ]
  },
  {
   "cell_type": "code",
   "execution_count": 5,
   "metadata": {},
   "outputs": [],
   "source": [
    "def DropData(batch_x, d_rate):\n",
    "    zero_idx = np.where(batch_x != 0, np.ones(batch_x.shape),\n",
    "                                       np.zeros(batch_x.shape))\n",
    "    batch_x_nozero = np.where(batch_x == 0, np.zeros(batch_x.shape)-999, batch_x)\n",
    "    sample_mask = np.random.rand(batch_x_nozero.shape[0],batch_x_nozero.shape[1]) <= d_rate\n",
    "    batch_x_drop = np.where(sample_mask, np.zeros(batch_x_nozero.shape), batch_x_nozero)\n",
    "\n",
    "    final_mask = np.where(batch_x_drop == 0, np.ones(batch_x_drop.shape), np.zeros(batch_x_drop.shape)) * zero_idx\n",
    "    final_x = np.where(batch_x_drop == -999, np.zeros(batch_x.shape), batch_x_drop)\n",
    "    \n",
    "    return final_mask, final_x\n",
    "    "
   ]
  },
  {
   "cell_type": "code",
   "execution_count": 6,
   "metadata": {},
   "outputs": [],
   "source": [
    "final_mask, final_x = DropData(X_all, d_rate=my_drop_rate)"
   ]
  },
  {
   "cell_type": "code",
   "execution_count": 7,
   "metadata": {},
   "outputs": [],
   "source": [
    "X = final_x \n",
    "X_true = X_all "
   ]
  },
  {
   "cell_type": "code",
   "execution_count": null,
   "metadata": {},
   "outputs": [],
   "source": [
    "res = AutoClassImpute(X,classifier_weight=0)\n",
    "X_imp = res['imp']"
   ]
  }
 ],
 "metadata": {
  "kernelspec": {
   "display_name": "Python 3 (ipykernel)",
   "language": "python",
   "name": "python3"
  },
  "language_info": {
   "codemirror_mode": {
    "name": "ipython",
    "version": 3
   },
   "file_extension": ".py",
   "mimetype": "text/x-python",
   "name": "python",
   "nbconvert_exporter": "python",
   "pygments_lexer": "ipython3",
   "version": "3.8.8"
  }
 },
 "nbformat": 4,
 "nbformat_minor": 2
}
