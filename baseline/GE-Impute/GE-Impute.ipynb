{
 "cells": [
  {
   "cell_type": "code",
   "execution_count": null,
   "id": "dfb24171-4e10-408a-90f4-c7f2664433cb",
   "metadata": {},
   "outputs": [],
   "source": [
    "from SCIMP import Impute\n",
    "import pandas as pd\n",
    "import numpy as np"
   ]
  },
  {
   "cell_type": "code",
   "execution_count": null,
   "id": "cdf4c7b4-4728-4850-83d0-9e0671d99f94",
   "metadata": {},
   "outputs": [],
   "source": [
    "X_test_path = './Baron_Droup0.1_x.csv'\n",
    "rawfile = pd.read_csv(X_test_path,header=0,index_col=0)\n",
    "graph_adj=Impute.GraphBuild(input_file=rawfile,k=3)\n",
    "cell_emb=Impute.trainCellEmbeddings(graph_adj)\n",
    "x_imp=Impute.imputation(scfile=rawfile,embeddingfile=cell_emb,AdjGraph=graph_adj)"
   ]
  }
 ],
 "metadata": {
  "kernelspec": {
   "display_name": "Python 3 (ipykernel)",
   "language": "python",
   "name": "python3"
  },
  "language_info": {
   "codemirror_mode": {
    "name": "ipython",
    "version": 3
   },
   "file_extension": ".py",
   "mimetype": "text/x-python",
   "name": "python",
   "nbconvert_exporter": "python",
   "pygments_lexer": "ipython3",
   "version": "3.8.10"
  }
 },
 "nbformat": 4,
 "nbformat_minor": 5
}
